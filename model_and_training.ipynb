{
 "cells": [
  {
   "cell_type": "code",
   "execution_count": 1,
   "metadata": {
    "id": "ThpHLlGK44y4"
   },
   "outputs": [],
   "source": [
    "import pandas as pd\n",
    "import numpy as np\n",
    "import pickle\n",
    "\n",
    "import tensorflow as tf\n",
    "from collections import Counter\n",
    "from tensorflow.keras.callbacks import EarlyStopping\n",
    "from tensorflow.keras.preprocessing.text import Tokenizer\n",
    "from tensorflow.keras.preprocessing.sequence import pad_sequences\n",
    "from tensorflow.keras.models import Sequential\n",
    "from tensorflow.keras.layers import Embedding, LSTM, Dense, Input\n",
    "\n",
    "import matplotlib.pyplot as plt\n",
    "from nltk.tokenize import word_tokenize\n",
    "from nltk.tokenize import TweetTokenizer"
   ]
  },
  {
   "cell_type": "code",
   "execution_count": 3,
   "metadata": {
    "colab": {
     "base_uri": "https://localhost:8080/",
     "height": 363
    },
    "id": "ZW1-Djhc5GTQ",
    "outputId": "4c4bc44b-f1a8-4f8c-9f7a-c8c52990e411"
   },
   "outputs": [
    {
     "data": {
      "text/html": [
       "<div>\n",
       "<style scoped>\n",
       "    .dataframe tbody tr th:only-of-type {\n",
       "        vertical-align: middle;\n",
       "    }\n",
       "\n",
       "    .dataframe tbody tr th {\n",
       "        vertical-align: top;\n",
       "    }\n",
       "\n",
       "    .dataframe thead th {\n",
       "        text-align: right;\n",
       "    }\n",
       "</style>\n",
       "<table border=\"1\" class=\"dataframe\">\n",
       "  <thead>\n",
       "    <tr style=\"text-align: right;\">\n",
       "      <th></th>\n",
       "      <th>input_text</th>\n",
       "      <th>response_output</th>\n",
       "    </tr>\n",
       "  </thead>\n",
       "  <tbody>\n",
       "    <tr>\n",
       "      <th>0</th>\n",
       "      <td>they do to</td>\n",
       "      <td>they do not</td>\n",
       "    </tr>\n",
       "    <tr>\n",
       "      <th>1</th>\n",
       "      <td>she okay</td>\n",
       "      <td>i hope so</td>\n",
       "    </tr>\n",
       "    <tr>\n",
       "      <th>2</th>\n",
       "      <td>wow</td>\n",
       "      <td>let us go</td>\n",
       "    </tr>\n",
       "    <tr>\n",
       "      <th>3</th>\n",
       "      <td>no</td>\n",
       "      <td>okay youre gonna need to learn how to lie</td>\n",
       "    </tr>\n",
       "    <tr>\n",
       "      <th>6</th>\n",
       "      <td>what crap</td>\n",
       "      <td>me this endless blonde babble i am like boring...</td>\n",
       "    </tr>\n",
       "    <tr>\n",
       "      <th>7</th>\n",
       "      <td>do you listen to this crap</td>\n",
       "      <td>what crap</td>\n",
       "    </tr>\n",
       "    <tr>\n",
       "      <th>8</th>\n",
       "      <td>but</td>\n",
       "      <td>you always been this selfish</td>\n",
       "    </tr>\n",
       "    <tr>\n",
       "      <th>9</th>\n",
       "      <td>then that is all you had to say</td>\n",
       "      <td>but</td>\n",
       "    </tr>\n",
       "    <tr>\n",
       "      <th>10</th>\n",
       "      <td>well no</td>\n",
       "      <td>then that is all you had to say</td>\n",
       "    </tr>\n",
       "    <tr>\n",
       "      <th>11</th>\n",
       "      <td>i wa</td>\n",
       "      <td>you never wanted to go out with me did you</td>\n",
       "    </tr>\n",
       "  </tbody>\n",
       "</table>\n",
       "</div>"
      ],
      "text/plain": [
       "                         input_text  \\\n",
       "0                        they do to   \n",
       "1                          she okay   \n",
       "2                               wow   \n",
       "3                                no   \n",
       "6                         what crap   \n",
       "7        do you listen to this crap   \n",
       "8                               but   \n",
       "9   then that is all you had to say   \n",
       "10                          well no   \n",
       "11                             i wa   \n",
       "\n",
       "                                      response_output  \n",
       "0                                         they do not  \n",
       "1                                           i hope so  \n",
       "2                                           let us go  \n",
       "3           okay youre gonna need to learn how to lie  \n",
       "6   me this endless blonde babble i am like boring...  \n",
       "7                                           what crap  \n",
       "8                        you always been this selfish  \n",
       "9                                                 but  \n",
       "10                    then that is all you had to say  \n",
       "11         you never wanted to go out with me did you  "
      ]
     },
     "execution_count": 3,
     "metadata": {},
     "output_type": "execute_result"
    }
   ],
   "source": [
    "# Load in clean data\n",
    "data = pd.read_pickle('data/input_data.pkl')\n",
    "data.head(10)"
   ]
  },
  {
   "cell_type": "code",
   "execution_count": 4,
   "metadata": {
    "colab": {
     "base_uri": "https://localhost:8080/",
     "height": 143
    },
    "id": "GuOUUk9D5J0P",
    "outputId": "ca15bd56-a6f0-4f0d-e2b9-d20b9b98f9be"
   },
   "outputs": [
    {
     "data": {
      "text/html": [
       "<div>\n",
       "<style scoped>\n",
       "    .dataframe tbody tr th:only-of-type {\n",
       "        vertical-align: middle;\n",
       "    }\n",
       "\n",
       "    .dataframe tbody tr th {\n",
       "        vertical-align: top;\n",
       "    }\n",
       "\n",
       "    .dataframe thead th {\n",
       "        text-align: right;\n",
       "    }\n",
       "</style>\n",
       "<table border=\"1\" class=\"dataframe\">\n",
       "  <thead>\n",
       "    <tr style=\"text-align: right;\">\n",
       "      <th></th>\n",
       "      <th>input_text</th>\n",
       "      <th>response_output</th>\n",
       "    </tr>\n",
       "  </thead>\n",
       "  <tbody>\n",
       "    <tr>\n",
       "      <th>0</th>\n",
       "      <td>they do to</td>\n",
       "      <td>&lt;start&gt; they do not &lt;end&gt;</td>\n",
       "    </tr>\n",
       "    <tr>\n",
       "      <th>1</th>\n",
       "      <td>she okay</td>\n",
       "      <td>&lt;start&gt; i hope so &lt;end&gt;</td>\n",
       "    </tr>\n",
       "    <tr>\n",
       "      <th>2</th>\n",
       "      <td>wow</td>\n",
       "      <td>&lt;start&gt; let us go &lt;end&gt;</td>\n",
       "    </tr>\n",
       "  </tbody>\n",
       "</table>\n",
       "</div>"
      ],
      "text/plain": [
       "   input_text            response_output\n",
       "0  they do to  <start> they do not <end>\n",
       "1    she okay    <start> i hope so <end>\n",
       "2         wow    <start> let us go <end>"
      ]
     },
     "execution_count": 4,
     "metadata": {},
     "output_type": "execute_result"
    }
   ],
   "source": [
    "\n",
    "# Append start and end to each response_output\n",
    "data['response_output'] = '<start> ' + data['response_output'].astype(str) + ' <end>'\n",
    "data.head(3)"
   ]
  },
  {
   "cell_type": "code",
   "execution_count": 5,
   "metadata": {
    "colab": {
     "base_uri": "https://localhost:8080/"
    },
    "id": "K1-5_X1h5Mxn",
    "outputId": "d5372ee8-b6ac-4fc8-cf06-ba797bfdb405"
   },
   "outputs": [
    {
     "name": "stdout",
     "output_type": "stream",
     "text": [
      "input vocab size: 25828, target vocab size: 43782\n"
     ]
    }
   ],
   "source": [
    "\n",
    "# Initialize tokenizers\n",
    "tokenizer_input = Tokenizer(filters='', oov_token='<unk>')\n",
    "tokenizer_target = Tokenizer(filters='', oov_token='<unk>')\n",
    "\n",
    "tokenizer_input.fit_on_texts(data['input_text'].values)\n",
    "tokenizer_target.fit_on_texts(data['response_output'].values)\n",
    "\n",
    "input_vocab = tokenizer_input.word_index.keys()\n",
    "target_vocab = tokenizer_target.word_index.keys()\n",
    "print(f'input vocab size: {len(input_vocab)}, target vocab size: {len(target_vocab)}')\n"
   ]
  },
  {
   "cell_type": "code",
   "execution_count": 6,
   "metadata": {
    "colab": {
     "base_uri": "https://localhost:8080/"
    },
    "id": "q3scfp6T5R96",
    "outputId": "895dc55b-299d-4fe8-bd46-eca17242d1cb"
   },
   "outputs": [
    {
     "name": "stdout",
     "output_type": "stream",
     "text": [
      "Encoder input shape: (450680, 40)\n",
      "Decoder input shape: (450680, 40)\n",
      "Decoder target shape: (450680, 40)\n"
     ]
    }
   ],
   "source": [
    "\n",
    "max_length = 40\n",
    "\n",
    "# Tokenize and pad data\n",
    "input_seqs = tokenizer_input.texts_to_sequences(data['input_text'])\n",
    "input_seqs_padded = pad_sequences(input_seqs, maxlen=max_length, padding='post')\n",
    "encoder_input = np.array(input_seqs_padded)\n",
    "print(f'Encoder input shape: {encoder_input.shape}')\n",
    "\n",
    "target_seqs = tokenizer_target.texts_to_sequences(data['response_output'])\n",
    "target_seqs_padded = pad_sequences(target_seqs, maxlen=max_length, padding='post')\n",
    "decoder_input = np.array(target_seqs_padded)\n",
    "print(f'Decoder input shape: {target_seqs_padded.shape}')\n",
    "\n",
    "# Create decoder target data\n",
    "decoder_target_lines = []\n",
    "for line in target_seqs:\n",
    "    # Take every token after the <start> token\n",
    "    decoder_target_lines.append(line[1:])\n",
    "    \n",
    "decoder_target_seqs = pad_sequences(decoder_target_lines, maxlen=max_length, padding='post')\n",
    "decoder_target = np.array(decoder_target_seqs)\n",
    "print(f'Decoder target shape: {decoder_target.shape}')\n",
    "\n",
    "# Save tokenizers to pickle file\n",
    "with open('tokenizer_input.pkl', 'wb') as file:\n",
    "    pickle.dump(tokenizer_input, file)\n",
    "\n",
    "with open('tokenizer_target.pkl', 'wb') as file:\n",
    "    pickle.dump(tokenizer_target, file)\n"
   ]
  },
  {
   "cell_type": "code",
   "execution_count": 6,
   "metadata": {
    "id": "GtkekvLO5Vlo"
   },
   "outputs": [],
   "source": [
    "\n",
    "# Train and validation split\n",
    "from sklearn.model_selection import train_test_split\n",
    "\n",
    "encoder_input_train, encoder_input_val, decoder_input_train, decoder_input_val, decoder_target_train, decoder_target_val = train_test_split(\n",
    "    encoder_input, decoder_input, decoder_target, test_size=0.2, random_state=42\n",
    ")\n"
   ]
  },
  {
   "cell_type": "code",
   "execution_count": 7,
   "metadata": {
    "id": "iPtxyu0S-7eX"
   },
   "outputs": [],
   "source": [
    "\n",
    "glove_files = ['glove.6B.50d.txt', 'glove.6B.100d.txt', 'glove.6B.200d.txt', 'glove.6B.300d.txt']\n",
    "\n",
    "# Load in GloVe pre trained word embeddings\n",
    "glove_model = {}\n",
    "\n",
    "for file_path in glove_files:\n",
    "    with open(f'{file_path}', 'r', encoding='utf-8') as file:\n",
    "        for line in file:\n",
    "            values = line.split()\n",
    "            word = values[0]\n",
    "            vector = np.asarray(values[1:], dtype='float32')\n",
    "            glove_model[word] = vector\n"
   ]
  },
  {
   "cell_type": "code",
   "execution_count": 8,
   "metadata": {
    "id": "owpuhjRt-8JV"
   },
   "outputs": [],
   "source": [
    "\n",
    "vector_dim = len(next(iter(glove_model.values())))\n",
    "\n",
    "# Initialize encoder embedding matrix\n",
    "enc_embedding_matrix = np.zeros((len(tokenizer_input.word_index) + 1, vector_dim))\n",
    "\n",
    "for word, i in tokenizer_input.word_index.items():\n",
    "    if word in glove_model:\n",
    "        enc_embedding_matrix[i] = glove_model[word]\n",
    "\n",
    "# Initialize decoder embedding matrix\n",
    "dec_embedding_matrix = np.zeros((len(tokenizer_target.word_index) + 1, vector_dim))\n",
    "\n",
    "for word, i in tokenizer_target.word_index.items():\n",
    "    if word in glove_model:\n",
    "        dec_embedding_matrix[i] = glove_model[word]\n"
   ]
  },
  {
   "cell_type": "markdown",
   "metadata": {
    "id": "CfciXSZZomKv"
   },
   "source": [
    "**Model**"
   ]
  },
  {
   "cell_type": "code",
   "execution_count": 9,
   "metadata": {
    "colab": {
     "base_uri": "https://localhost:8080/"
    },
    "id": "22149hQx5gRH",
    "outputId": "d848dc82-bee7-4cb5-96d4-65b34d4ace63"
   },
   "outputs": [
    {
     "name": "stdout",
     "output_type": "stream",
     "text": [
      "Model: \"model\"\n",
      "__________________________________________________________________________________________________\n",
      " Layer (type)                Output Shape                 Param #   Connected to                  \n",
      "==================================================================================================\n",
      " input_1 (InputLayer)        [(None, None)]               0         []                            \n",
      "                                                                                                  \n",
      " input_2 (InputLayer)        [(None, None)]               0         []                            \n",
      "                                                                                                  \n",
      " embedding (Embedding)       (None, None, 300)            3372600   ['input_1[0][0]']             \n",
      "                                                                                                  \n",
      " embedding_1 (Embedding)     (None, None, 300)            3799500   ['input_2[0][0]']             \n",
      "                                                                                                  \n",
      " lstm (LSTM)                 [(None, 200),                400800    ['embedding[0][0]']           \n",
      "                              (None, 200),                                                        \n",
      "                              (None, 200)]                                                        \n",
      "                                                                                                  \n",
      " lstm_1 (LSTM)               [(None, None, 200),          400800    ['embedding_1[0][0]',         \n",
      "                              (None, 200),                           'lstm[0][1]',                \n",
      "                              (None, 200)]                           'lstm[0][2]']                \n",
      "                                                                                                  \n",
      " dense (Dense)               (None, None, 12665)          2545665   ['lstm_1[0][0]']              \n",
      "                                                                                                  \n",
      "==================================================================================================\n",
      "Total params: 10519365 (40.13 MB)\n",
      "Trainable params: 3347265 (12.77 MB)\n",
      "Non-trainable params: 7172100 (27.36 MB)\n",
      "__________________________________________________________________________________________________\n"
     ]
    }
   ],
   "source": [
    "# Hyperparameters\n",
    "input_vocab_size = len(input_vocab) + 1\n",
    "target_vocab_size = len(target_vocab) + 1\n",
    "\n",
    "# Model encoder\n",
    "encoder_inputs = tf.keras.layers.Input(shape=(None , ))\n",
    "# Use GloVe embeddings\n",
    "enc_embedding_layer =  tf.keras.layers.Embedding(\n",
    "    input_dim=input_vocab_size,\n",
    "    output_dim=300,\n",
    "    weights=[enc_embedding_matrix],\n",
    "    input_length=max_length,\n",
    "    trainable=False,\n",
    "    mask_zero=True,\n",
    ")\n",
    "encoder_embedding = enc_embedding_layer(encoder_inputs)\n",
    "encoder_outputs , state_h , state_c = tf.keras.layers.LSTM(200, return_state=True)(encoder_embedding)\n",
    "encoder_states = [state_h , state_c]\n",
    "\n",
    "# Model decoder\n",
    "decoder_inputs = tf.keras.layers.Input(shape=(None ,  ))\n",
    "dec_embedding_layer =  tf.keras.layers.Embedding(\n",
    "    input_dim=target_vocab_size,\n",
    "    output_dim=300,\n",
    "    weights=[dec_embedding_matrix],\n",
    "    input_length=max_length,\n",
    "    trainable=False,\n",
    "    mask_zero=True,\n",
    ")\n",
    "decoder_embedding = dec_embedding_layer(decoder_inputs)\n",
    "decoder_lstm = tf.keras.layers.LSTM(200, return_state=True, return_sequences=True)\n",
    "decoder_outputs , _ , _ = decoder_lstm (decoder_embedding, initial_state=encoder_states)\n",
    "decoder_dense = tf.keras.layers.Dense(target_vocab_size, activation=tf.keras.activations.softmax)\n",
    "output = decoder_dense (decoder_outputs)\n",
    "\n",
    "# Define the model\n",
    "model = tf.keras.models.Model([encoder_inputs, decoder_inputs], output )\n",
    "model.compile(optimizer=tf.keras.optimizers.RMSprop(), loss='sparse_categorical_crossentropy')\n",
    "model.summary()\n"
   ]
  },
  {
   "cell_type": "code",
   "execution_count": 10,
   "metadata": {
    "colab": {
     "base_uri": "https://localhost:8080/"
    },
    "id": "RaoE2lwa5jti",
    "outputId": "1e3d341b-fa4a-490b-a6c3-bfbef98f4337"
   },
   "outputs": [
    {
     "name": "stdout",
     "output_type": "stream",
     "text": [
      "Epoch 1/50\n",
      "3912/3912 [==============================] - 64s 14ms/step - loss: 4.9094 - val_loss: 4.6082\n",
      "Epoch 2/50\n",
      "3912/3912 [==============================] - 53s 14ms/step - loss: 4.5167 - val_loss: 4.4517\n",
      "Epoch 3/50\n",
      "3912/3912 [==============================] - 53s 14ms/step - loss: 4.3966 - val_loss: 4.3661\n",
      "Epoch 4/50\n",
      "3912/3912 [==============================] - 54s 14ms/step - loss: 4.3151 - val_loss: 4.2993\n",
      "Epoch 5/50\n",
      "3912/3912 [==============================] - 53s 14ms/step - loss: 4.2458 - val_loss: 4.2372\n",
      "Epoch 6/50\n",
      "3912/3912 [==============================] - 54s 14ms/step - loss: 4.1829 - val_loss: 4.1801\n",
      "Epoch 7/50\n",
      "3912/3912 [==============================] - 53s 14ms/step - loss: 4.1209 - val_loss: 4.1260\n",
      "Epoch 8/50\n",
      "3912/3912 [==============================] - 53s 14ms/step - loss: 4.0617 - val_loss: 4.0657\n",
      "Epoch 9/50\n",
      "3912/3912 [==============================] - 53s 14ms/step - loss: 4.0043 - val_loss: 4.0190\n",
      "Epoch 10/50\n",
      "3912/3912 [==============================] - 54s 14ms/step - loss: 3.9474 - val_loss: 3.9711\n",
      "Epoch 11/50\n",
      "3912/3912 [==============================] - 53s 14ms/step - loss: 3.8911 - val_loss: 3.9174\n",
      "Epoch 12/50\n",
      "3912/3912 [==============================] - 54s 14ms/step - loss: 3.8352 - val_loss: 3.8712\n",
      "Epoch 13/50\n",
      "3912/3912 [==============================] - 53s 14ms/step - loss: 3.7797 - val_loss: 3.8229\n",
      "Epoch 14/50\n",
      "3912/3912 [==============================] - 53s 14ms/step - loss: 3.7260 - val_loss: 3.7739\n",
      "Epoch 15/50\n",
      "3912/3912 [==============================] - 53s 14ms/step - loss: 3.6746 - val_loss: 3.7383\n",
      "Epoch 16/50\n",
      "3912/3912 [==============================] - 53s 14ms/step - loss: 3.6275 - val_loss: 3.6903\n",
      "Epoch 17/50\n",
      "3912/3912 [==============================] - 53s 14ms/step - loss: 3.5817 - val_loss: 3.6539\n",
      "Epoch 18/50\n",
      "3912/3912 [==============================] - 54s 14ms/step - loss: 3.5393 - val_loss: 3.6244\n",
      "Epoch 19/50\n",
      "3912/3912 [==============================] - 53s 14ms/step - loss: 3.4992 - val_loss: 3.5842\n",
      "Epoch 20/50\n",
      "3912/3912 [==============================] - 53s 14ms/step - loss: 3.4632 - val_loss: 3.5527\n",
      "Epoch 21/50\n",
      "3912/3912 [==============================] - 53s 14ms/step - loss: 3.4271 - val_loss: 3.5198\n",
      "Epoch 22/50\n",
      "3912/3912 [==============================] - 53s 14ms/step - loss: 3.3952 - val_loss: 3.4982\n",
      "Epoch 23/50\n",
      "3912/3912 [==============================] - 54s 14ms/step - loss: 3.3667 - val_loss: 3.4731\n",
      "Epoch 24/50\n",
      "3912/3912 [==============================] - 53s 14ms/step - loss: 3.3394 - val_loss: 3.4604\n",
      "Epoch 25/50\n",
      "3912/3912 [==============================] - 53s 14ms/step - loss: 3.3144 - val_loss: 3.4390\n",
      "Epoch 26/50\n",
      "3912/3912 [==============================] - 53s 14ms/step - loss: 3.2920 - val_loss: 3.4225\n",
      "Epoch 27/50\n",
      "3912/3912 [==============================] - 53s 14ms/step - loss: 3.2717 - val_loss: 3.4061\n",
      "Epoch 28/50\n",
      "3912/3912 [==============================] - 53s 14ms/step - loss: 3.2513 - val_loss: 3.3935\n",
      "Epoch 29/50\n",
      "3912/3912 [==============================] - 54s 14ms/step - loss: 3.2340 - val_loss: 3.3782\n",
      "Epoch 30/50\n",
      "3912/3912 [==============================] - 53s 14ms/step - loss: 3.2171 - val_loss: 3.3739\n",
      "Epoch 31/50\n",
      "3912/3912 [==============================] - 54s 14ms/step - loss: 3.1996 - val_loss: 3.3569\n",
      "Epoch 32/50\n",
      "3912/3912 [==============================] - 53s 14ms/step - loss: 3.1844 - val_loss: 3.3542\n",
      "Epoch 33/50\n",
      "3912/3912 [==============================] - 53s 14ms/step - loss: 3.1720 - val_loss: 3.3654\n",
      "Epoch 34/50\n",
      "3912/3912 [==============================] - 53s 14ms/step - loss: 3.1574 - val_loss: 3.3317\n",
      "Epoch 35/50\n",
      "3912/3912 [==============================] - 54s 14ms/step - loss: 3.1458 - val_loss: 3.3339\n",
      "Epoch 36/50\n",
      "3912/3912 [==============================] - 53s 14ms/step - loss: 3.1310 - val_loss: 3.3423\n",
      "Epoch 37/50\n",
      "3912/3912 [==============================] - 53s 14ms/step - loss: 3.1198 - val_loss: 3.3119\n",
      "Epoch 38/50\n",
      "3912/3912 [==============================] - 53s 14ms/step - loss: 3.1090 - val_loss: 3.3114\n",
      "Epoch 39/50\n",
      "3912/3912 [==============================] - 53s 14ms/step - loss: 3.0967 - val_loss: 3.3199\n",
      "Epoch 40/50\n",
      "3912/3912 [==============================] - 53s 14ms/step - loss: 3.0870 - val_loss: 3.3135\n",
      "Epoch 41/50\n",
      "3912/3912 [==============================] - 53s 14ms/step - loss: 3.0779 - val_loss: 3.3056\n",
      "Epoch 42/50\n",
      "3912/3912 [==============================] - 53s 14ms/step - loss: 3.0679 - val_loss: 3.3153\n",
      "Epoch 43/50\n",
      "3912/3912 [==============================] - 53s 14ms/step - loss: 3.0596 - val_loss: 3.3120\n",
      "Epoch 44/50\n",
      "3912/3912 [==============================] - 53s 14ms/step - loss: 3.0486 - val_loss: 3.3028\n",
      "Epoch 45/50\n",
      "3912/3912 [==============================] - 53s 14ms/step - loss: 3.0376 - val_loss: 3.2837\n",
      "Epoch 46/50\n",
      "3912/3912 [==============================] - 53s 14ms/step - loss: 3.0273 - val_loss: 3.2857\n",
      "Epoch 47/50\n",
      "3912/3912 [==============================] - 53s 14ms/step - loss: 3.0157 - val_loss: 3.2864\n",
      "Epoch 48/50\n",
      "3912/3912 [==============================] - 53s 14ms/step - loss: 3.0083 - val_loss: 3.2861\n"
     ]
    },
    {
     "name": "stderr",
     "output_type": "stream",
     "text": [
      "/usr/local/lib/python3.10/dist-packages/keras/src/engine/training.py:3103: UserWarning: You are saving your model as an HDF5 file via `model.save()`. This file format is considered legacy. We recommend using instead the native Keras format, e.g. `model.save('my_model.keras')`.\n",
      "  saving_api.save_model(\n"
     ]
    }
   ],
   "source": [
    "\n",
    "early_stopping = EarlyStopping(monitor='val_loss', patience=3, restore_best_weights=True)\n",
    "\n",
    "# Train the model\n",
    "history = model.fit(\n",
    "    [encoder_input_train, decoder_input_train], decoder_target_train,\n",
    "    validation_data=([encoder_input_val, decoder_input_val], decoder_target_val),\n",
    "    batch_size=50, epochs=50, callbacks=[early_stopping]\n",
    ")\n",
    "\n",
    "# Save model, model weights, and model history\n",
    "model.save('model.h5')\n",
    "model.save_weights('model_weights.h5')\n",
    "\n",
    "with open('model_history.pkl', 'wb') as file:\n",
    "    pickle.dump(history.history, file)\n"
   ]
  },
  {
   "cell_type": "code",
   "execution_count": 11,
   "metadata": {
    "colab": {
     "base_uri": "https://localhost:8080/",
     "height": 472
    },
    "id": "v6nkQSnr5wXY",
    "outputId": "deb9a220-c646-4a9c-f0ee-7761efbd25b3"
   },
   "outputs": [
    {
     "data": {
      "image/png": "[encoded data removed]",
      "text/plain": [
       "<Figure size 640x480 with 1 Axes>"
      ]
     },
     "metadata": {},
     "output_type": "display_data"
    }
   ],
   "source": [
    "\n",
    "# Plot loss\n",
    "plt.plot(history.history['val_loss'])\n",
    "plt.title('Model Validation Loss')\n",
    "plt.xlabel('Epoch')\n",
    "plt.ylabel('Loss')\n",
    "plt.show()\n"
   ]
  },
  {
   "cell_type": "code",
   "execution_count": 12,
   "metadata": {
    "id": "9_3X1qel5xVr"
   },
   "outputs": [],
   "source": [
    "\n",
    "''' Define inference model to use encoder and decoder from the model'''\n",
    "def make_inference_models():\n",
    "\n",
    "    encoder_model = tf.keras.models.Model(encoder_inputs, encoder_states)\n",
    "\n",
    "    decoder_state_input_h = tf.keras.layers.Input(shape=(200, ))\n",
    "    decoder_state_input_c = tf.keras.layers.Input(shape=(200, ))\n",
    "\n",
    "    decoder_states_inputs = [decoder_state_input_h, decoder_state_input_c]\n",
    "\n",
    "    decoder_outputs, state_h, state_c = decoder_lstm(\n",
    "        decoder_embedding , initial_state=decoder_states_inputs\n",
    "    )\n",
    "    decoder_states = [state_h, state_c]\n",
    "    decoder_outputs = decoder_dense(decoder_outputs)\n",
    "\n",
    "    decoder_model = tf.keras.models.Model(\n",
    "        [decoder_inputs] + decoder_states_inputs,\n",
    "        [decoder_outputs] + decoder_states\n",
    "    )\n",
    "\n",
    "    return encoder_model, decoder_model\n"
   ]
  },
  {
   "cell_type": "code",
   "execution_count": 13,
   "metadata": {
    "colab": {
     "base_uri": "https://localhost:8080/"
    },
    "id": "aUodtUTl5y8J",
    "outputId": "86701e98-e4d0-4cef-d959-5e978427927f"
   },
   "outputs": [
    {
     "name": "stdout",
     "output_type": "stream",
     "text": [
      "Say something: hi\n",
      "1/1 [==============================] - 1s 1s/step\n",
      "1/1 [==============================] - 1s 1s/step\n",
      "1/1 [==============================] - 0s 22ms/step\n",
      " hi <end>\n",
      "Say something: hello\n",
      "1/1 [==============================] - 0s 21ms/step\n",
      "1/1 [==============================] - 0s 22ms/step\n",
      "1/1 [==============================] - 0s 21ms/step\n",
      " hello <end>\n",
      "Say something: what is up\n",
      "1/1 [==============================] - 0s 20ms/step\n",
      "1/1 [==============================] - 0s 22ms/step\n",
      "1/1 [==============================] - 0s 23ms/step\n",
      "1/1 [==============================] - 0s 22ms/step\n",
      "1/1 [==============================] - 0s 23ms/step\n",
      "1/1 [==============================] - 0s 22ms/step\n",
      "1/1 [==============================] - 0s 22ms/step\n",
      "1/1 [==============================] - 0s 22ms/step\n",
      " nothing much what is going on <end>\n",
      "Say something: what up dude\n",
      "1/1 [==============================] - 0s 21ms/step\n",
      "1/1 [==============================] - 0s 22ms/step\n",
      "1/1 [==============================] - 0s 22ms/step\n",
      "1/1 [==============================] - 0s 22ms/step\n",
      "1/1 [==============================] - 0s 23ms/step\n",
      "1/1 [==============================] - 0s 23ms/step\n",
      "1/1 [==============================] - 0s 22ms/step\n",
      "1/1 [==============================] - 0s 22ms/step\n",
      "1/1 [==============================] - 0s 22ms/step\n",
      " well i am going to be back <end>\n",
      "Say something: i love you\n",
      "1/1 [==============================] - 0s 22ms/step\n",
      "1/1 [==============================] - 0s 22ms/step\n",
      "1/1 [==============================] - 0s 23ms/step\n",
      "1/1 [==============================] - 0s 22ms/step\n",
      "1/1 [==============================] - 0s 22ms/step\n",
      "1/1 [==============================] - 0s 22ms/step\n",
      " i love you too <end>\n",
      "Say something: aww thanks\n",
      "1/1 [==============================] - 0s 21ms/step\n",
      "1/1 [==============================] - 0s 23ms/step\n",
      "1/1 [==============================] - 0s 22ms/step\n",
      "1/1 [==============================] - 0s 22ms/step\n",
      "1/1 [==============================] - 0s 22ms/step\n",
      "1/1 [==============================] - 0s 23ms/step\n",
      "1/1 [==============================] - 0s 23ms/step\n",
      "1/1 [==============================] - 0s 22ms/step\n",
      "1/1 [==============================] - 0s 22ms/step\n",
      "1/1 [==============================] - 0s 22ms/step\n",
      " i am not sure i am not sure <end>\n",
      "Say something: thank you\n",
      "1/1 [==============================] - 0s 20ms/step\n",
      "1/1 [==============================] - 0s 22ms/step\n",
      "1/1 [==============================] - 0s 22ms/step\n",
      "1/1 [==============================] - 0s 22ms/step\n",
      "1/1 [==============================] - 0s 22ms/step\n",
      "1/1 [==============================] - 0s 22ms/step\n",
      "1/1 [==============================] - 0s 22ms/step\n",
      "1/1 [==============================] - 0s 22ms/step\n",
      " i am so happy for you <end>\n",
      "Say something: happy for me?\n",
      "1/1 [==============================] - 0s 22ms/step\n",
      "1/1 [==============================] - 0s 22ms/step\n",
      "1/1 [==============================] - 0s 21ms/step\n",
      "1/1 [==============================] - 0s 22ms/step\n",
      "1/1 [==============================] - 0s 22ms/step\n",
      "1/1 [==============================] - 0s 22ms/step\n",
      "1/1 [==============================] - 0s 22ms/step\n",
      "1/1 [==============================] - 0s 22ms/step\n",
      "1/1 [==============================] - 0s 21ms/step\n",
      "1/1 [==============================] - 0s 23ms/step\n",
      " i am not sure i am not sure <end>\n",
      "Say something: not sure about what\n",
      "1/1 [==============================] - 0s 21ms/step\n",
      "1/1 [==============================] - 0s 22ms/step\n",
      "1/1 [==============================] - 0s 22ms/step\n",
      "1/1 [==============================] - 0s 22ms/step\n",
      "1/1 [==============================] - 0s 22ms/step\n",
      "1/1 [==============================] - 0s 22ms/step\n",
      " i am not sure <end>\n",
      "Say something: well bye now\n",
      "1/1 [==============================] - 0s 22ms/step\n",
      "1/1 [==============================] - 0s 23ms/step\n",
      "1/1 [==============================] - 0s 22ms/step\n",
      "1/1 [==============================] - 0s 22ms/step\n",
      "1/1 [==============================] - 0s 22ms/step\n",
      "1/1 [==============================] - 0s 23ms/step\n",
      "1/1 [==============================] - 0s 22ms/step\n",
      "1/1 [==============================] - 0s 22ms/step\n",
      "1/1 [==============================] - 0s 21ms/step\n",
      "1/1 [==============================] - 0s 22ms/step\n",
      "1/1 [==============================] - 0s 22ms/step\n",
      " i am not not sure i am not sure <end>\n"
     ]
    }
   ],
   "source": [
    "\n",
    "''' Turn a string into padded, tokenized data that the encoder can use'''\n",
    "def str_to_tokens(sentence):\n",
    "    words = sentence.lower().split()\n",
    "    tokens_list = list()\n",
    "    for word in words:\n",
    "        if word in tokenizer_input.word_index:\n",
    "            tokens_list.append(tokenizer_input.word_index[word])\n",
    "        else:\n",
    "            tokens_list.append(tokenizer_input.word_index['<unk>'])\n",
    "    return pad_sequences([tokens_list], maxlen=max_length , padding='post')\n",
    "\n",
    "\n",
    "# Initialize encoder and decoder inference models\n",
    "enc_model, dec_model = make_inference_models()\n",
    "\n",
    "\n",
    "''' This loop gets input from the user and gets a response from chatbot'''\n",
    "for _ in range(10):\n",
    "    \n",
    "    # Predict state values from input\n",
    "    states_values = enc_model.predict(str_to_tokens(input('Say something: ' )))\n",
    "    \n",
    "    # Initialize target sequence as empty and give it start token\n",
    "    empty_target_seq = np.zeros((1, 1))\n",
    "    empty_target_seq[0, 0] = tokenizer_target.word_index['<start>']\n",
    "    \n",
    "    stop_condition = False\n",
    "    decoded_sentence = ''\n",
    "\n",
    "    while not stop_condition:\n",
    "        # Decode the model's response\n",
    "        dec_outputs, h, c = dec_model.predict([empty_target_seq] + states_values)\n",
    "        \n",
    "        # Get index of the next predicted word\n",
    "        sampled_word_index = np.argmax(dec_outputs[0, -1, :])\n",
    "        sampled_word = None\n",
    "\n",
    "        # Find where the indices match up and get predicted word\n",
    "        for word, index in tokenizer_target.word_index.items() :\n",
    "            if sampled_word_index == index :\n",
    "                decoded_sentence += ' {}'.format(word)\n",
    "                sampled_word = word\n",
    "        \n",
    "        # If model predict end token or if over 40 tokens long end model response\n",
    "        if sampled_word == '<end>' or len(decoded_sentence.split()) > max_length:\n",
    "            stop_condition = True\n",
    "\n",
    "        # Reset target sequence\n",
    "        empty_target_seq = np.zeros((1, 1))\n",
    "        empty_target_seq[0, 0] = sampled_word_index\n",
    "        \n",
    "        # Update state values \n",
    "        states_values = [h, c]\n",
    "\n",
    "    print(decoded_sentence)"
   ]
  },
  {
   "cell_type": "markdown",
   "metadata": {},
   "source": [
    "\n",
    "This model definitely shows some promise, as it can correctly respond to some basic phrases, like \"I love you\" and \"what is up.\" Even when it responds incorrectly, the sentences are still comprehensive, which is good. \n",
    "\n",
    "This model's performance can only be increased in a few ways. Increasing the training data size and making the model's architecture more complex are the best methods of doing so. Unfortunately, adding to the model's architecture with only one more LSTM layer in the encoder and decoder causes the training time to increase almost tenfold. Also, increasing the training data size has  diminishing returns on the increase of the model's performance, requiring me to significantly increase the amount of data to see any significant improvement. To do either of these, I would need a powerful GPU...\n"
   ]
  },
  {
   "cell_type": "code",
   "execution_count": null,
   "metadata": {
    "id": "XeIfwJWyRwg5"
   },
   "outputs": [],
   "source": []
  }
 ],
 "metadata": {
  "accelerator": "GPU",
  "colab": {
   "gpuType": "A100",
   "machine_shape": "hm",
   "provenance": []
  },
  "kernelspec": {
   "display_name": "Python 3 (ipykernel)",
   "language": "python",
   "name": "python3"
  },
  "language_info": {
   "codemirror_mode": {
    "name": "ipython",
    "version": 3
   },
   "file_extension": ".py",
   "mimetype": "text/x-python",
   "name": "python",
   "nbconvert_exporter": "python",
   "pygments_lexer": "ipython3",
   "version": "3.10.9"
  }
 },
 "nbformat": 4,
 "nbformat_minor": 1
}
